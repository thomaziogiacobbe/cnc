{
  "nbformat": 4,
  "nbformat_minor": 0,
  "metadata": {
    "colab": {
      "provenance": [],
      "collapsed_sections": [
        "c0j5PZEupaEY",
        "cwYkqmJQgMC7",
        "xSWD_gR9hlbo",
        "DbVC09UUodGF",
        "OrGki5s4qpGQ",
        "XNrCbnaNtxvj",
        "jFmR2os1w9r-",
        "wjHrFndL01TK",
        "TW8lUWVlg_ZF",
        "rCbdQnSCjkia",
        "GJCJdExxksyO",
        "AXZMqL2nmZva",
        "09edCzOumeCR",
        "Inn7sRQmnSZK",
        "IiuCtV2ioj4r",
        "Uc1GJsj8orOb",
        "Zz-5tnyNqYzB",
        "hxI9ftoBvmVS"
      ],
      "toc_visible": true,
      "authorship_tag": "ABX9TyPK3BDwhKMv9TvLMgUDky5o",
      "include_colab_link": true
    },
    "kernelspec": {
      "name": "python3",
      "display_name": "Python 3"
    },
    "language_info": {
      "name": "python"
    }
  },
  "cells": [
    {
      "cell_type": "markdown",
      "metadata": {
        "id": "view-in-github",
        "colab_type": "text"
      },
      "source": [
        "<a href=\"https://colab.research.google.com/github/thomaziogiacobbe/cnc/blob/main/equacoesAlgebricasETranscendentes.ipynb\" target=\"_parent\"><img src=\"https://colab.research.google.com/assets/colab-badge.svg\" alt=\"Open In Colab\"/></a>"
      ]
    },
    {
      "cell_type": "markdown",
      "source": [
        "Executar todas as 82 celulas contidas na celula abaixo para obter todos os resultados"
      ],
      "metadata": {
        "id": "LxbYqacN1K38"
      }
    },
    {
      "cell_type": "markdown",
      "source": [
        "# **Resolução Numérica de Equações Algebricas e Transcendentes**"
      ],
      "metadata": {
        "id": "HEebnkTqx88S"
      }
    },
    {
      "cell_type": "markdown",
      "source": [
        "## **Imports, validação do intervalo e funções f1 e f2**"
      ],
      "metadata": {
        "id": "c0j5PZEupaEY"
      }
    },
    {
      "cell_type": "code",
      "execution_count": null,
      "metadata": {
        "id": "55qQ3dp6s98N"
      },
      "outputs": [],
      "source": [
        "import math\n",
        "import sympy\n",
        "import matplotlib.pyplot as plt\n",
        "import numpy as np\n",
        "from typing import Callable, Tuple, List, Optional\n",
        "import time"
      ]
    },
    {
      "cell_type": "code",
      "source": [
        "f1 = lambda x : x**3 - 9*x + 5\n",
        "f2 = lambda x : 2*(x**3) + 5*(x**2) - 8*x - 10"
      ],
      "metadata": {
        "id": "CPm9_y2CtKCF"
      },
      "execution_count": null,
      "outputs": []
    },
    {
      "cell_type": "code",
      "source": [
        "def validaIntervalo(func: Callable, a: float, b: float) -> bool:\n",
        "  if func(a) * func(b) >= 0:\n",
        "    print(\"intervalo invalido\")\n",
        "    return False\n",
        "\n",
        "  return True"
      ],
      "metadata": {
        "id": "YoBhTyTQXgAG"
      },
      "execution_count": null,
      "outputs": []
    },
    {
      "cell_type": "markdown",
      "source": [
        "## **Metodo Bissecção e Falsa Posição**"
      ],
      "metadata": {
        "id": "cwYkqmJQgMC7"
      }
    },
    {
      "cell_type": "code",
      "source": [
        "def metodoBisseccao(func: Callable, a: float, b: float, precisao: float) -> Tuple[Optional[float], int, List[float]]:\n",
        "\n",
        "  if validaIntervalo(func, a, b):\n",
        "    m = func(a)\n",
        "\n",
        "    k = 1\n",
        "    iterValues = []\n",
        "    while True:\n",
        "      x = (a + b) / 2\n",
        "\n",
        "      fx = func(x)\n",
        "      iterValues.append(fx)\n",
        "      if abs(fx) < precisao:\n",
        "        return (x, k, iterValues)\n",
        "\n",
        "      if m * fx > 0:\n",
        "        a = x\n",
        "      else:\n",
        "        b = x\n",
        "\n",
        "      k = k + 1\n",
        "  else:\n",
        "    return (None, 0, [])"
      ],
      "metadata": {
        "id": "iGLq8jotuEGI"
      },
      "execution_count": null,
      "outputs": []
    },
    {
      "cell_type": "code",
      "source": [
        "def metodoFalsaPosicao(func: Callable, a: float, b: float, precisao: float) -> Tuple[Optional[float], int, List[float]]:\n",
        "  if validaIntervalo(func, a, b):\n",
        "    m = func(a)\n",
        "\n",
        "    k = 1\n",
        "    iterValues = []\n",
        "    while True:\n",
        "      x = ((a * func(b)) - (b * func(a))) / (func(b) - func(a))\n",
        "\n",
        "      fx = func(x)\n",
        "      iterValues.append(fx)\n",
        "      if abs(fx) < precisao:\n",
        "        return (x, k, iterValues)\n",
        "\n",
        "      if m * fx > 0:\n",
        "        a = x\n",
        "      else:\n",
        "        b = x\n",
        "\n",
        "      k = k + 1\n",
        "  else:\n",
        "    return (None, 0, [])"
      ],
      "metadata": {
        "id": "0cNI5UlbYWXw"
      },
      "execution_count": null,
      "outputs": []
    },
    {
      "cell_type": "code",
      "source": [
        "#print(metodoBisseccao(f1, 0.5, 1, 0.01))\n",
        "#print(metodoFalsaPosicao(f1, 0, 1, 0.0005))\n",
        "#print(metodoFalsaPosicao(f2, 0, 3, 0.05))"
      ],
      "metadata": {
        "id": "jWRbSKnswtRc"
      },
      "execution_count": null,
      "outputs": []
    },
    {
      "cell_type": "markdown",
      "source": [
        "## **Metodo Newton-Rhapson e da Secante**"
      ],
      "metadata": {
        "id": "xSWD_gR9hlbo"
      }
    },
    {
      "cell_type": "code",
      "source": [
        "fl = lambda x: (x**3) - 9*x + 3\n",
        "\n",
        "x = sympy.Symbol('x')\n",
        "f3 = (x**3) - 9*x + 3\n",
        "\n",
        "df = f3.diff(x)\n",
        "dfl = sympy.lambdify(x, df)\n",
        "\n",
        "fs = lambda x: (x**2) + x - 6"
      ],
      "metadata": {
        "id": "rlLkR7QzfhQi"
      },
      "execution_count": null,
      "outputs": []
    },
    {
      "cell_type": "code",
      "source": [
        "def metodoNewtonRhapson(func: Callable, df: Callable, x0: float, precisao: float) -> Tuple[Optional[float], int, List[float]]:\n",
        "\n",
        "  iterValues = []\n",
        "\n",
        "  if abs(func(x0)) < precisao:\n",
        "    return (x0, 0, [x0])\n",
        "\n",
        "  k = 1\n",
        "  while True:\n",
        "    x1 = x0 - (func(x0) / df(x0))\n",
        "    iterValues.append(x1)\n",
        "    if abs(func(x1)) < precisao or abs(x1 - x0) < precisao:\n",
        "      return (x1, k, iterValues)\n",
        "\n",
        "    x0 = x1\n",
        "\n",
        "    k = k + 1"
      ],
      "metadata": {
        "id": "KHRAfjcAo25B"
      },
      "execution_count": null,
      "outputs": []
    },
    {
      "cell_type": "code",
      "source": [
        "def metodoSecante(func: Callable, x0: float, x1: float, precisao: float) -> Tuple[Optional[float], int, List[float]]:\n",
        "\n",
        "  iterValues = []\n",
        "\n",
        "  if abs(func(x0)) < precisao:\n",
        "    return (x0, 0, [x0])\n",
        "  elif abs(func(x1)) < precisao or abs(x1 - x0) < precisao:\n",
        "    return (x1, 0, [x1])\n",
        "\n",
        "  k = 1\n",
        "  while True:\n",
        "    fx1 = func(x1)\n",
        "    x = x1 - ((fx1) / (fx1 - func(x0))) * (x1 - x0)\n",
        "    iterValues.append(x)\n",
        "    if abs(func(x)) < precisao or abs(x - x1) < precisao:\n",
        "      return (x, k, iterValues)\n",
        "\n",
        "    x0 = x1\n",
        "    x1 = x\n",
        "\n",
        "    k = k + 1"
      ],
      "metadata": {
        "id": "47Yz-YdXuJi-"
      },
      "execution_count": null,
      "outputs": []
    },
    {
      "cell_type": "code",
      "source": [
        "#print(metodoNewtonRhapson(fl, dfl, 0.75, 0.01))\n",
        "#print(metodoSecante(fs, 1.5, 1.7, 0.01))"
      ],
      "metadata": {
        "id": "TmnjIEz3p34f"
      },
      "execution_count": null,
      "outputs": []
    },
    {
      "cell_type": "markdown",
      "source": [
        "## **Plotagem de gráfico e definição de uma função para plotagem**"
      ],
      "metadata": {
        "id": "DbVC09UUodGF"
      }
    },
    {
      "cell_type": "code",
      "source": [
        "inicio = -10\n",
        "fim = 10\n",
        "nro_de_pontos = 100"
      ],
      "metadata": {
        "id": "JhsJQH92j0EL"
      },
      "execution_count": null,
      "outputs": []
    },
    {
      "cell_type": "code",
      "source": [
        "curva = np.linspace(inicio, fim, nro_de_pontos)\n",
        "valores = [f1(valor) for valor in curva]"
      ],
      "metadata": {
        "id": "M7BRTuobjuUt"
      },
      "execution_count": null,
      "outputs": []
    },
    {
      "cell_type": "code",
      "source": [
        "raiz, n_iter, iter_values = metodoFalsaPosicao(f1, 0, 1, 0.0005)\n",
        "\n",
        "plt.plot(curva, valores, linestyle=\"-\")\n",
        "plt.plot(raiz,[0],'ro')\n",
        "plt.grid()\n",
        "plt.show()"
      ],
      "metadata": {
        "colab": {
          "base_uri": "https://localhost:8080/",
          "height": 54
        },
        "id": "JMghTHjFkG8g",
        "outputId": "20d528d6-03e2-4508-8fd3-86bffff3c191"
      },
      "execution_count": null,
      "outputs": [
        {
          "output_type": "display_data",
          "data": {
            "text/plain": [
              "<Figure size 432x288 with 1 Axes>"
            ],
            "image/png": "[encoded data removed]"
          },
          "metadata": {
            "needs_background": "light"
          }
        }
      ]
    },
    {
      "cell_type": "code",
      "source": [
        "def plotGrafico(inicio: float, fim: float, nro_de_pontos: int, funcao: Callable, raiz: Optional[float] = None) -> None:\n",
        "  curva = np.linspace(inicio, fim, nro_de_pontos)\n",
        "  valores = [funcao(valor) for valor in curva]\n",
        "\n",
        "  plt.plot(curva, valores, linestyle=\"-\")\n",
        "\n",
        "  if raiz != None:\n",
        "    plt.plot(raiz,[0],'ro')\n",
        "\n",
        "  plt.grid()\n",
        "  plt.show()"
      ],
      "metadata": {
        "id": "xJfZDrU9kIK4"
      },
      "execution_count": null,
      "outputs": []
    },
    {
      "cell_type": "markdown",
      "source": [
        "## **Relatório**"
      ],
      "metadata": {
        "id": "hfhMpyZyobsx"
      }
    },
    {
      "cell_type": "markdown",
      "source": [
        "### Ex 1"
      ],
      "metadata": {
        "id": "OrGki5s4qpGQ"
      }
    },
    {
      "cell_type": "code",
      "source": [
        "m = 0.5\n",
        "e = 0.2\n",
        "eq_kepler = lambda x: x - e*math.sin(x) - m"
      ],
      "metadata": {
        "id": "RcDBkgX3qvBG"
      },
      "execution_count": null,
      "outputs": []
    },
    {
      "cell_type": "code",
      "source": [
        "raiz, _, _ = metodoBisseccao(eq_kepler, 0, 2, 10**-3)\n",
        "print(raiz)"
      ],
      "metadata": {
        "colab": {
          "base_uri": "https://localhost:8080/"
        },
        "id": "BjRv41OXtXaj",
        "outputId": "4eb18b1a-4258-4340-af05-a2dd860e6630"
      },
      "execution_count": null,
      "outputs": [
        {
          "output_type": "stream",
          "name": "stdout",
          "text": [
            "0.615234375\n"
          ]
        }
      ]
    },
    {
      "cell_type": "code",
      "source": [
        "plotGrafico(0, 2, 100, eq_kepler, raiz)"
      ],
      "metadata": {
        "colab": {
          "base_uri": "https://localhost:8080/",
          "height": 54
        },
        "id": "vWNhXlmyqKr-",
        "outputId": "4f9ada16-5c52-4d41-9c27-1d74eef9d432"
      },
      "execution_count": null,
      "outputs": [
        {
          "output_type": "display_data",
          "data": {
            "text/plain": [
              "<Figure size 432x288 with 1 Axes>"
            ],
            "image/png": "[encoded data removed]"
          },
          "metadata": {
            "needs_background": "light"
          }
        }
      ]
    },
    {
      "cell_type": "markdown",
      "source": [
        "### Ex 2"
      ],
      "metadata": {
        "id": "XNrCbnaNtxvj"
      }
    },
    {
      "cell_type": "code",
      "source": [
        "c5 = 1000\n",
        "c1 = -3\n",
        "c0 = 9.04\n",
        "eq_fluxo = lambda d: c5*(d**5) + c1*d + c0"
      ],
      "metadata": {
        "id": "Hgl6fzN0uHog"
      },
      "execution_count": null,
      "outputs": []
    },
    {
      "cell_type": "code",
      "source": [
        "d = sympy.Symbol('d')\n",
        "f = c5*(d**5) + c1*d + c0\n",
        "\n",
        "df = f.diff(d)\n",
        "df_fluxo = sympy.lambdify(d, df)"
      ],
      "metadata": {
        "id": "2hAtC8sAun9I"
      },
      "execution_count": null,
      "outputs": []
    },
    {
      "cell_type": "code",
      "source": [
        "raiz, _, _ = metodoNewtonRhapson(eq_fluxo, df_fluxo, -0.5, 10**-3)\n",
        "print(raiz)"
      ],
      "metadata": {
        "colab": {
          "base_uri": "https://localhost:8080/"
        },
        "id": "4Q4xSzu1v37q",
        "outputId": "6199657a-17ad-470f-ac0b-df4640f400b2"
      },
      "execution_count": null,
      "outputs": [
        {
          "output_type": "stream",
          "name": "stdout",
          "text": [
            "-0.4000000658024373\n"
          ]
        }
      ]
    },
    {
      "cell_type": "code",
      "source": [
        "plotGrafico(-0.6, 0.5, 100, eq_fluxo, raiz)"
      ],
      "metadata": {
        "colab": {
          "base_uri": "https://localhost:8080/",
          "height": 54
        },
        "id": "cwMpWwPqpxDt",
        "outputId": "ffb622f6-e293-4795-b395-359af36f0bfb"
      },
      "execution_count": null,
      "outputs": [
        {
          "output_type": "display_data",
          "data": {
            "text/plain": [
              "<Figure size 432x288 with 1 Axes>"
            ],
            "image/png": "[encoded data removed]"
          },
          "metadata": {
            "needs_background": "light"
          }
        }
      ]
    },
    {
      "cell_type": "markdown",
      "source": [
        "### Ex 3"
      ],
      "metadata": {
        "id": "jFmR2os1w9r-"
      }
    },
    {
      "cell_type": "code",
      "source": [
        "c = 4\n",
        "eq_oxigenio = lambda x: 10 - 15*(math.exp(-0.1*x) - math.exp(-0.5*x)) - c"
      ],
      "metadata": {
        "id": "8Y-DPBL3xFWL"
      },
      "execution_count": null,
      "outputs": []
    },
    {
      "cell_type": "code",
      "source": [
        "raiz, _, _ = metodoBisseccao(eq_oxigenio, 0, 5, 10**-3)\n",
        "\n",
        "print(raiz)"
      ],
      "metadata": {
        "colab": {
          "base_uri": "https://localhost:8080/"
        },
        "id": "DPJHn-7zynI9",
        "outputId": "45db197e-db22-4de0-e859-810922fae45d"
      },
      "execution_count": null,
      "outputs": [
        {
          "output_type": "stream",
          "name": "stdout",
          "text": [
            "1.57958984375\n"
          ]
        }
      ]
    },
    {
      "cell_type": "code",
      "source": [
        "plotGrafico(0, 5, 50, eq_oxigenio, raiz)"
      ],
      "metadata": {
        "colab": {
          "base_uri": "https://localhost:8080/",
          "height": 54
        },
        "id": "mqGRWn9LpSzF",
        "outputId": "dc73ab7b-2a3a-4f28-ae26-6454df8a045f"
      },
      "execution_count": null,
      "outputs": [
        {
          "output_type": "display_data",
          "data": {
            "text/plain": [
              "<Figure size 432x288 with 1 Axes>"
            ],
            "image/png": "[encoded data removed]"
          },
          "metadata": {
            "needs_background": "light"
          }
        }
      ]
    },
    {
      "cell_type": "markdown",
      "source": [
        "### Ex 4"
      ],
      "metadata": {
        "id": "8YUKMu990mkS"
      }
    },
    {
      "cell_type": "code",
      "source": [
        "f = lambda x: 2*(x**4) + 4*(x**3) + 3*(x**2) - 10*x - 15"
      ],
      "metadata": {
        "id": "6KsdGXdF06kW"
      },
      "execution_count": null,
      "outputs": []
    },
    {
      "cell_type": "markdown",
      "source": [
        "#### a"
      ],
      "metadata": {
        "id": "wjHrFndL01TK"
      }
    },
    {
      "cell_type": "code",
      "source": [
        "plotGrafico(-3, 3, 50, f)"
      ],
      "metadata": {
        "id": "ZziMYVhP0pL8",
        "colab": {
          "base_uri": "https://localhost:8080/",
          "height": 54
        },
        "outputId": "fe5663fa-1f82-4753-cca4-5d29d6dff149"
      },
      "execution_count": null,
      "outputs": [
        {
          "output_type": "display_data",
          "data": {
            "text/plain": [
              "<Figure size 432x288 with 1 Axes>"
            ],
            "image/png": "[encoded data removed]"
          },
          "metadata": {
            "needs_background": "light"
          }
        }
      ]
    },
    {
      "cell_type": "markdown",
      "source": [
        "#### b"
      ],
      "metadata": {
        "id": "TW8lUWVlg_ZF"
      }
    },
    {
      "cell_type": "code",
      "source": [
        "raiz, n_iter, _ = metodoBisseccao(f, 0, 3, 10**-10)\n",
        "print('Raiz: {}, total iteracoes: {}'.format(raiz, n_iter))"
      ],
      "metadata": {
        "colab": {
          "base_uri": "https://localhost:8080/"
        },
        "id": "lzpCHmHghEAy",
        "outputId": "30551abd-f99f-4a86-a5df-6b43baaf9ae7"
      },
      "execution_count": null,
      "outputs": [
        {
          "output_type": "stream",
          "name": "stdout",
          "text": [
            "Raiz: 1.492878708664648, total iteracoes: 38\n"
          ]
        }
      ]
    },
    {
      "cell_type": "code",
      "source": [
        "plotGrafico(-3, 3, 50, f, raiz)"
      ],
      "metadata": {
        "colab": {
          "base_uri": "https://localhost:8080/",
          "height": 54
        },
        "id": "05ZU2wBhmAhA",
        "outputId": "6dd5c203-bc30-492c-b6b7-17fe4c831a9e"
      },
      "execution_count": null,
      "outputs": [
        {
          "output_type": "display_data",
          "data": {
            "text/plain": [
              "<Figure size 432x288 with 1 Axes>"
            ],
            "image/png": "[encoded data removed]"
          },
          "metadata": {
            "needs_background": "light"
          }
        }
      ]
    },
    {
      "cell_type": "markdown",
      "source": [
        "#### c"
      ],
      "metadata": {
        "id": "rCbdQnSCjkia"
      }
    },
    {
      "cell_type": "code",
      "source": [
        "raiz, n_iter, _ = metodoFalsaPosicao(f, 0, 3, 10**-10)\n",
        "print('Raiz: {}, total iteracoes: {}'.format(raiz, n_iter))"
      ],
      "metadata": {
        "colab": {
          "base_uri": "https://localhost:8080/"
        },
        "id": "2GA6EOw9jnKo",
        "outputId": "c2756da6-6a1a-42f6-a5ee-b7cf1bc14688"
      },
      "execution_count": null,
      "outputs": [
        {
          "output_type": "stream",
          "name": "stdout",
          "text": [
            "Raiz: 1.492878708662261, total iteracoes: 78\n"
          ]
        }
      ]
    },
    {
      "cell_type": "code",
      "source": [
        "plotGrafico(-3, 3, 50, f, raiz)"
      ],
      "metadata": {
        "colab": {
          "base_uri": "https://localhost:8080/",
          "height": 54
        },
        "id": "9MIOoZ80mTMZ",
        "outputId": "719cf404-0b89-4ad6-bb6d-566f7c35a598"
      },
      "execution_count": null,
      "outputs": [
        {
          "output_type": "display_data",
          "data": {
            "text/plain": [
              "<Figure size 432x288 with 1 Axes>"
            ],
            "image/png": "[encoded data removed]"
          },
          "metadata": {
            "needs_background": "light"
          }
        }
      ]
    },
    {
      "cell_type": "markdown",
      "source": [
        "#### d"
      ],
      "metadata": {
        "id": "ChKf_1Slj9VD"
      }
    },
    {
      "cell_type": "code",
      "source": [
        "x = sympy.Symbol('x')\n",
        "exp = 2*(x**4) + 4*(x**3) + 3*(x**2) - 10*x - 15\n",
        "df = exp.diff(x)\n",
        "df = sympy.lambdify(x, df)"
      ],
      "metadata": {
        "id": "9KNgC6u_j_bu"
      },
      "execution_count": null,
      "outputs": []
    },
    {
      "cell_type": "code",
      "source": [
        "raiz, n_iter, _ = metodoNewtonRhapson(f, df, 3, 10**-10)\n",
        "print('Raiz: {}, total iteracoes: {}'.format(raiz, n_iter))"
      ],
      "metadata": {
        "colab": {
          "base_uri": "https://localhost:8080/"
        },
        "id": "0BZYS67xkbiV",
        "outputId": "0d602a17-9578-4e98-e199-c25ef068c088"
      },
      "execution_count": null,
      "outputs": [
        {
          "output_type": "stream",
          "name": "stdout",
          "text": [
            "Raiz: 1.4928787086636037, total iteracoes: 7\n"
          ]
        }
      ]
    },
    {
      "cell_type": "code",
      "source": [
        "plotGrafico(-3, 3, 50, f, raiz)"
      ],
      "metadata": {
        "colab": {
          "base_uri": "https://localhost:8080/",
          "height": 54
        },
        "id": "zkuBE56Jmd5S",
        "outputId": "41e6718d-c652-4726-c10b-039451e0d443"
      },
      "execution_count": null,
      "outputs": [
        {
          "output_type": "display_data",
          "data": {
            "text/plain": [
              "<Figure size 432x288 with 1 Axes>"
            ],
            "image/png": "[encoded data removed]"
          },
          "metadata": {
            "needs_background": "light"
          }
        }
      ]
    },
    {
      "cell_type": "markdown",
      "source": [
        "#### e"
      ],
      "metadata": {
        "id": "GJCJdExxksyO"
      }
    },
    {
      "cell_type": "code",
      "source": [
        "raiz, n_iter, _ = metodoSecante(f, 0, 3, 10**-10)\n",
        "print('Raiz: {}, total iteracoes: {}'.format(raiz, n_iter))"
      ],
      "metadata": {
        "id": "UzxLQVrhkuQp",
        "colab": {
          "base_uri": "https://localhost:8080/"
        },
        "outputId": "84b6c765-fb22-4e72-8528-ae33921819f4"
      },
      "execution_count": null,
      "outputs": [
        {
          "output_type": "stream",
          "name": "stdout",
          "text": [
            "Raiz: -1.3003841326429082, total iteracoes: 10\n"
          ]
        }
      ]
    },
    {
      "cell_type": "code",
      "source": [
        "plotGrafico(-3, 3, 50, f, raiz)"
      ],
      "metadata": {
        "colab": {
          "base_uri": "https://localhost:8080/",
          "height": 54
        },
        "id": "Jn4BhApTmizp",
        "outputId": "ed41178c-80e4-4b2b-9c72-ff2710dada31"
      },
      "execution_count": null,
      "outputs": [
        {
          "output_type": "display_data",
          "data": {
            "text/plain": [
              "<Figure size 432x288 with 1 Axes>"
            ],
            "image/png": "[encoded data removed]"
          },
          "metadata": {
            "needs_background": "light"
          }
        }
      ]
    },
    {
      "cell_type": "markdown",
      "source": [
        "#### f"
      ],
      "metadata": {
        "id": "HVvY_vVplVgx"
      }
    },
    {
      "cell_type": "markdown",
      "source": [
        "É possivel ver resultados bem parecidos, exceto no metodo da secante em que o resultado foi diferente, embora diferente esse resultado ainda sim é uma das raizes dessa função.\n",
        "\n",
        "É possível ver no exercício B que embora o numero de iterações seja alto (38) o tempo de execução foi bem rápido, próximo ao metodo de newthon-rhapson sem calcular a derivada e o metodo da secante"
      ],
      "metadata": {
        "id": "U9NliWOglXBA"
      }
    },
    {
      "cell_type": "markdown",
      "source": [
        "#####Benchmarks"
      ],
      "metadata": {
        "id": "970qHPnZu8hP"
      }
    },
    {
      "cell_type": "code",
      "source": [
        "n_runs = 1000"
      ],
      "metadata": {
        "id": "x_gbHmZmruJF"
      },
      "execution_count": null,
      "outputs": []
    },
    {
      "cell_type": "code",
      "source": [
        "timers = 0\n",
        "\n",
        "#benchmark metodo bisseccao\n",
        "for i in range(n_runs):\n",
        "  start = time.perf_counter()\n",
        "  metodoBisseccao(f, 0, 3, 10**-10)\n",
        "  timers += (time.perf_counter() - start)\n",
        "\n",
        "media = timers / n_runs\n",
        "\n",
        "print(\"{:.10f}\".format(media))"
      ],
      "metadata": {
        "colab": {
          "base_uri": "https://localhost:8080/"
        },
        "id": "BA7036RorApc",
        "outputId": "ad3f6d05-9b3a-48a4-f505-993d2fde4837"
      },
      "execution_count": null,
      "outputs": [
        {
          "output_type": "stream",
          "name": "stdout",
          "text": [
            "0.0000678722\n"
          ]
        }
      ]
    },
    {
      "cell_type": "code",
      "source": [
        "timers = 0\n",
        "\n",
        "#benchmark metodo falsa posicao\n",
        "for i in range(n_runs):\n",
        "  start = time.perf_counter()\n",
        "  metodoFalsaPosicao(f, 0, 3, 10**-10)\n",
        "  timers += (time.perf_counter() - start)\n",
        "\n",
        "media = timers / n_runs\n",
        "\n",
        "print(\"{:.10f}\".format(media))"
      ],
      "metadata": {
        "colab": {
          "base_uri": "https://localhost:8080/"
        },
        "id": "2Bt171outh2F",
        "outputId": "fa91209d-5e05-4d22-86c3-7facdb5dd21e"
      },
      "execution_count": null,
      "outputs": [
        {
          "output_type": "stream",
          "name": "stdout",
          "text": [
            "0.0005179074\n"
          ]
        }
      ]
    },
    {
      "cell_type": "code",
      "source": [
        "timers = 0\n",
        "\n",
        "#benchmark metodo newthon-rhapson\n",
        "for i in range(n_runs):\n",
        "  start = time.perf_counter()\n",
        "  x = sympy.Symbol('x')\n",
        "  exp = 2*(x**4) + 4*(x**3) + 3*(x**2) - 10*x - 15\n",
        "  df = exp.diff(x)\n",
        "  df = sympy.lambdify(x, df)\n",
        "  metodoNewtonRhapson(f, df, 3, 10**-10)\n",
        "  timers += (time.perf_counter() - start)\n",
        "\n",
        "mediaCalculandoDerivada = timers / n_runs\n",
        "\n",
        "timers = 0\n",
        "\n",
        "#sem calcular a derivada\n",
        "x = sympy.Symbol('x')\n",
        "exp = 2*(x**4) + 4*(x**3) + 3*(x**2) - 10*x - 15\n",
        "df = exp.diff(x)\n",
        "df = sympy.lambdify(x, df)\n",
        "\n",
        "for i in range(n_runs):\n",
        "  start = time.perf_counter()\n",
        "  metodoNewtonRhapson(f, df, 3, 10**-10)\n",
        "  timers += (time.perf_counter() - start)\n",
        "\n",
        "mediaSemCalcularDerivada = timers / n_runs\n",
        "\n",
        "print(\"Média calculando derivada: {:.10f} \\nMédia sem calcular a derivada: {:.10f}\".format(mediaCalculandoDerivada, mediaSemCalcularDerivada))"
      ],
      "metadata": {
        "colab": {
          "base_uri": "https://localhost:8080/"
        },
        "id": "MLqzjIhztl0B",
        "outputId": "83ce575d-d6a3-4207-e6af-b5700967dfc1"
      },
      "execution_count": null,
      "outputs": [
        {
          "output_type": "stream",
          "name": "stdout",
          "text": [
            "Média calculando derivada: 0.0034465992 \n",
            "Média sem calcular a derivada: 0.0000435935\n"
          ]
        }
      ]
    },
    {
      "cell_type": "code",
      "source": [
        "timers = 0\n",
        "\n",
        "#benchmark metodo secante\n",
        "for i in range(n_runs):\n",
        "  start = time.perf_counter()\n",
        "  metodoSecante(f, 0, 3, 10**-10)\n",
        "  timers += (time.perf_counter() - start)\n",
        "\n",
        "media = timers / n_runs\n",
        "\n",
        "print(\"{:.10f}\".format(media))"
      ],
      "metadata": {
        "colab": {
          "base_uri": "https://localhost:8080/"
        },
        "id": "qSrdhUyytmpb",
        "outputId": "4d1b40c1-f23b-4ef3-f55c-e4d8b8214da7"
      },
      "execution_count": null,
      "outputs": [
        {
          "output_type": "stream",
          "name": "stdout",
          "text": [
            "0.0000809566\n"
          ]
        }
      ]
    },
    {
      "cell_type": "markdown",
      "source": [
        "### Ex 5"
      ],
      "metadata": {
        "id": "AXZMqL2nmZva"
      }
    },
    {
      "cell_type": "code",
      "source": [
        "f = lambda x: math.sin(x) * x + 4"
      ],
      "metadata": {
        "id": "XLoYW3-zmhSJ"
      },
      "execution_count": null,
      "outputs": []
    },
    {
      "cell_type": "markdown",
      "source": [
        "#### a"
      ],
      "metadata": {
        "id": "09edCzOumeCR"
      }
    },
    {
      "cell_type": "code",
      "source": [
        "plotGrafico(-10, 10, 100, f)"
      ],
      "metadata": {
        "id": "-u9fgyLkmgNs",
        "colab": {
          "base_uri": "https://localhost:8080/",
          "height": 54
        },
        "outputId": "6f5a5279-b573-4f0d-d3d3-a53c8031b922"
      },
      "execution_count": null,
      "outputs": [
        {
          "output_type": "display_data",
          "data": {
            "text/plain": [
              "<Figure size 432x288 with 1 Axes>"
            ],
            "image/png": "[encoded data removed]"
          },
          "metadata": {
            "needs_background": "light"
          }
        }
      ]
    },
    {
      "cell_type": "markdown",
      "source": [
        "#### b"
      ],
      "metadata": {
        "id": "Inn7sRQmnSZK"
      }
    },
    {
      "cell_type": "code",
      "source": [
        "raiz, n_iter, _ = metodoBisseccao(f, 1, 5, 10**-10)\n",
        "print('Raiz: {}, total iteracoes: {}'.format(raiz, n_iter))"
      ],
      "metadata": {
        "colab": {
          "base_uri": "https://localhost:8080/"
        },
        "id": "Xgy98xtKnUxN",
        "outputId": "31965496-4a8c-4612-d4b6-f56f9c51b099"
      },
      "execution_count": null,
      "outputs": [
        {
          "output_type": "stream",
          "name": "stdout",
          "text": [
            "Raiz: 4.323239543708041, total iteracoes: 34\n"
          ]
        }
      ]
    },
    {
      "cell_type": "code",
      "source": [
        "plotGrafico(-1, 6, 100, f, raiz)"
      ],
      "metadata": {
        "colab": {
          "base_uri": "https://localhost:8080/",
          "height": 54
        },
        "id": "CNUMZ7kbnLne",
        "outputId": "d2a81c22-3645-41d4-ecd9-7def70d526f8"
      },
      "execution_count": null,
      "outputs": [
        {
          "output_type": "display_data",
          "data": {
            "text/plain": [
              "<Figure size 432x288 with 1 Axes>"
            ],
            "image/png": "[encoded data removed]"
          },
          "metadata": {
            "needs_background": "light"
          }
        }
      ]
    },
    {
      "cell_type": "markdown",
      "source": [
        "#### c"
      ],
      "metadata": {
        "id": "IiuCtV2ioj4r"
      }
    },
    {
      "cell_type": "code",
      "source": [
        "raiz, n_iter, _ = metodoFalsaPosicao(f, 1, 5, 10**-10)\n",
        "print('Raiz: {}, total iteracoes: {}'.format(raiz, n_iter))"
      ],
      "metadata": {
        "colab": {
          "base_uri": "https://localhost:8080/"
        },
        "id": "jaAzoLFXolj_",
        "outputId": "eb450c65-be3f-4804-efdb-906e6eee594e"
      },
      "execution_count": null,
      "outputs": [
        {
          "output_type": "stream",
          "name": "stdout",
          "text": [
            "Raiz: 4.323239543733132, total iteracoes: 9\n"
          ]
        }
      ]
    },
    {
      "cell_type": "code",
      "source": [
        "plotGrafico(-1, 6, 100, f, raiz)"
      ],
      "metadata": {
        "colab": {
          "base_uri": "https://localhost:8080/",
          "height": 54
        },
        "id": "hnwk2KK0nda6",
        "outputId": "67e88965-d4bf-4830-bd0e-aa29fd2cbe5f"
      },
      "execution_count": null,
      "outputs": [
        {
          "output_type": "display_data",
          "data": {
            "text/plain": [
              "<Figure size 432x288 with 1 Axes>"
            ],
            "image/png": "[encoded data removed]"
          },
          "metadata": {
            "needs_background": "light"
          }
        }
      ]
    },
    {
      "cell_type": "markdown",
      "source": [
        "#### d"
      ],
      "metadata": {
        "id": "Uc1GJsj8orOb"
      }
    },
    {
      "cell_type": "code",
      "source": [
        "x = sympy.Symbol('x')\n",
        "exp = sympy.sin(x) * x + 4\n",
        "df = exp.diff(x)\n",
        "df = sympy.lambdify(x, df)"
      ],
      "metadata": {
        "id": "LTFdbyQPntd1"
      },
      "execution_count": null,
      "outputs": []
    },
    {
      "cell_type": "code",
      "source": [
        "raiz, n_iter, _ = metodoNewtonRhapson(f, df, 1, 10**-10)\n",
        "print('Raiz: {}, total iteracoes: {}'.format(raiz, n_iter))"
      ],
      "metadata": {
        "colab": {
          "base_uri": "https://localhost:8080/"
        },
        "id": "_vXQdn3gos6s",
        "outputId": "9cfd996f-7cc2-43a2-e804-da66cea3f26e"
      },
      "execution_count": null,
      "outputs": [
        {
          "output_type": "stream",
          "name": "stdout",
          "text": [
            "Raiz: -5.461308012589076, total iteracoes: 7\n"
          ]
        }
      ]
    },
    {
      "cell_type": "code",
      "source": [
        "plotGrafico(-6, 6, 100, f, raiz)"
      ],
      "metadata": {
        "colab": {
          "base_uri": "https://localhost:8080/",
          "height": 54
        },
        "id": "9JjhgD-Rnget",
        "outputId": "4f3dafbc-9438-4333-d82c-1f18f918ba88"
      },
      "execution_count": null,
      "outputs": [
        {
          "output_type": "display_data",
          "data": {
            "text/plain": [
              "<Figure size 432x288 with 1 Axes>"
            ],
            "image/png": "[encoded data removed]"
          },
          "metadata": {
            "needs_background": "light"
          }
        }
      ]
    },
    {
      "cell_type": "markdown",
      "source": [
        "#### e"
      ],
      "metadata": {
        "id": "Zz-5tnyNqYzB"
      }
    },
    {
      "cell_type": "code",
      "source": [
        "raiz, n_iter, _ = metodoSecante(f, 1, 5, 10**-10)\n",
        "print('Raiz: {}, total iteracoes: {}'.format(raiz, n_iter))"
      ],
      "metadata": {
        "colab": {
          "base_uri": "https://localhost:8080/"
        },
        "id": "rtOuwb0DqaJU",
        "outputId": "a16469b6-48c7-4596-a695-ebead204f688"
      },
      "execution_count": null,
      "outputs": [
        {
          "output_type": "stream",
          "name": "stdout",
          "text": [
            "Raiz: 4.3232395437137425, total iteracoes: 7\n"
          ]
        }
      ]
    },
    {
      "cell_type": "code",
      "source": [
        "plotGrafico(-6, 6, 100, f, raiz)"
      ],
      "metadata": {
        "colab": {
          "base_uri": "https://localhost:8080/",
          "height": 54
        },
        "id": "TnhoDKZFpBuY",
        "outputId": "e07eccaa-3551-475b-920a-68bd6065569a"
      },
      "execution_count": null,
      "outputs": [
        {
          "output_type": "display_data",
          "data": {
            "text/plain": [
              "<Figure size 432x288 with 1 Axes>"
            ],
            "image/png": "[encoded data removed]"
          },
          "metadata": {
            "needs_background": "light"
          }
        }
      ]
    },
    {
      "cell_type": "markdown",
      "source": [
        "#### f"
      ],
      "metadata": {
        "id": "XzUM74w5rVZQ"
      }
    },
    {
      "cell_type": "markdown",
      "source": [
        "É possivel ver resultados bem parecidos, dessa vez a exceção foi no metodo de newthon-rhapson em que o resultado foi diferente, embora diferente esse resultado ainda sim é uma das raizes dessa função.\n",
        "\n",
        "É possível ver novamente que no exercício B que embora o numero de iterações seja alto (38), o tempo de execução foi bem rápido, todos os resultados foram rápidos, com exceção do metodo de newthon-rhapson com o cálculo da derivada"
      ],
      "metadata": {
        "id": "zVDnnrO_rW29"
      }
    },
    {
      "cell_type": "markdown",
      "source": [
        "#####Benchmarks"
      ],
      "metadata": {
        "id": "hxI9ftoBvmVS"
      }
    },
    {
      "cell_type": "code",
      "source": [
        "n_runs = 1000"
      ],
      "metadata": {
        "id": "Mw-pdkSEvmVU"
      },
      "execution_count": null,
      "outputs": []
    },
    {
      "cell_type": "code",
      "source": [
        "timers = 0\n",
        "\n",
        "#benchmark metodo bisseccao\n",
        "for i in range(n_runs):\n",
        "  start = time.perf_counter()\n",
        "  metodoBisseccao(f, 1, 5, 10**-10)\n",
        "  timers += (time.perf_counter() - start)\n",
        "\n",
        "media = timers / n_runs\n",
        "\n",
        "print(\"{:.10f}\".format(media))"
      ],
      "metadata": {
        "colab": {
          "base_uri": "https://localhost:8080/"
        },
        "outputId": "ece13038-5e2e-4a60-c380-00e05cb17e03",
        "id": "F1SH1MDdvmVV"
      },
      "execution_count": null,
      "outputs": [
        {
          "output_type": "stream",
          "name": "stdout",
          "text": [
            "0.0000525469\n"
          ]
        }
      ]
    },
    {
      "cell_type": "code",
      "source": [
        "timers = 0\n",
        "\n",
        "#benchmark metodo falsa posicao\n",
        "for i in range(n_runs):\n",
        "  start = time.perf_counter()\n",
        "  metodoFalsaPosicao(f, 1, 5, 10**-10)\n",
        "  timers += (time.perf_counter() - start)\n",
        "\n",
        "media = timers / n_runs\n",
        "\n",
        "print(\"{:.10f}\".format(media))"
      ],
      "metadata": {
        "colab": {
          "base_uri": "https://localhost:8080/"
        },
        "outputId": "e99c6ba7-4326-4df0-e048-24cde4bb9762",
        "id": "vfN7ReqbvmVW"
      },
      "execution_count": null,
      "outputs": [
        {
          "output_type": "stream",
          "name": "stdout",
          "text": [
            "0.0000554300\n"
          ]
        }
      ]
    },
    {
      "cell_type": "code",
      "source": [
        "timers = 0\n",
        "\n",
        "#benchmark metodo newthon-rhapson calculando a derivada\n",
        "for i in range(n_runs):\n",
        "  start = time.perf_counter()\n",
        "  x = sympy.Symbol('x')\n",
        "  exp = sympy.sin(x) * x + 4\n",
        "  df = exp.diff(x)\n",
        "  df = sympy.lambdify(x, df)\n",
        "  metodoNewtonRhapson(f, df, 1, 10**-10)\n",
        "  timers += (time.perf_counter() - start)\n",
        "\n",
        "mediaCalculandoDerivada = timers / n_runs\n",
        "\n",
        "\n",
        "timers = 0\n",
        "\n",
        "#sem calcular a derivada\n",
        "x = sympy.Symbol('x')\n",
        "exp = sympy.sin(x) * x + 4\n",
        "df = exp.diff(x)\n",
        "df = sympy.lambdify(x, df)\n",
        "\n",
        "for i in range(n_runs):\n",
        "  start = time.perf_counter()\n",
        "  metodoNewtonRhapson(f, df, 1, 10**-10)\n",
        "  timers += (time.perf_counter() - start)\n",
        "\n",
        "mediaSemCalcularDerivada = timers / n_runs\n",
        "\n",
        "print(\"Média calculando derivada: {:.10f} \\nMédia sem calcular a derivada: {:.10f}\".format(mediaCalculandoDerivada, mediaSemCalcularDerivada))"
      ],
      "metadata": {
        "colab": {
          "base_uri": "https://localhost:8080/"
        },
        "outputId": "651960a1-8750-4bd3-8a52-70dbccd288c3",
        "id": "FDAKH8_3vmVX"
      },
      "execution_count": null,
      "outputs": [
        {
          "output_type": "stream",
          "name": "stdout",
          "text": [
            "Média calculando derivada: 0.0017065904 \n",
            "Média sem calcular a derivada: 0.0000444959\n"
          ]
        }
      ]
    },
    {
      "cell_type": "code",
      "source": [
        "timers = 0\n",
        "\n",
        "#benchmark metodo secante\n",
        "for i in range(n_runs):\n",
        "  start = time.perf_counter()\n",
        "  metodoSecante(f, 1, 5, 10**-10)\n",
        "  timers += (time.perf_counter() - start)\n",
        "\n",
        "media = timers / n_runs\n",
        "\n",
        "print(\"{:.10f}\".format(media))"
      ],
      "metadata": {
        "colab": {
          "base_uri": "https://localhost:8080/"
        },
        "outputId": "4804e2a5-6dee-40c7-9608-22927d6b8608",
        "id": "PHxFwA47vmVY"
      },
      "execution_count": null,
      "outputs": [
        {
          "output_type": "stream",
          "name": "stdout",
          "text": [
            "0.0000228475\n"
          ]
        }
      ]
    }
  ]
}