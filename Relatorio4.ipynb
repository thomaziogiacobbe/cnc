{
  "nbformat": 4,
  "nbformat_minor": 0,
  "metadata": {
    "colab": {
      "provenance": [],
      "collapsed_sections": [
        "KwZodPfgMZsL",
        "JdvqCBDzMcMv",
        "KGoaNjr3TUQl",
        "fxC6XNXjQVj6",
        "mVzRkVhmQYfo",
        "YRmRYWWgSWNC"
      ],
      "authorship_tag": "ABX9TyMLaIWNkVW0JIenuX0eUyG7",
      "include_colab_link": true
    },
    "kernelspec": {
      "name": "python3",
      "display_name": "Python 3"
    },
    "language_info": {
      "name": "python"
    }
  },
  "cells": [
    {
      "cell_type": "markdown",
      "metadata": {
        "id": "view-in-github",
        "colab_type": "text"
      },
      "source": [
        "<a href=\"https://colab.research.google.com/github/thomaziogiacobbe/cnc/blob/main/Relatorio_4.ipynb\" target=\"_parent\"><img src=\"https://colab.research.google.com/assets/colab-badge.svg\" alt=\"Open In Colab\"/></a>"
      ]
    },
    {
      "cell_type": "code",
      "source": [
        "import math"
      ],
      "metadata": {
        "id": "t2VkuF7vQz5B"
      },
      "execution_count": null,
      "outputs": []
    },
    {
      "cell_type": "markdown",
      "source": [
        "### Métodos"
      ],
      "metadata": {
        "id": "e40w0ZTntR89"
      }
    },
    {
      "cell_type": "markdown",
      "source": [
        "#### Trapézio"
      ],
      "metadata": {
        "id": "XbOZLsFComwJ"
      }
    },
    {
      "cell_type": "code",
      "execution_count": null,
      "metadata": {
        "id": "5P1gdsUPBXLE"
      },
      "outputs": [],
      "source": [
        "def trap(h, f0, f1):\n",
        "    return f0 * (f0 + f1)/2"
      ]
    },
    {
      "cell_type": "code",
      "source": [
        "def trapm(h, n, f):\n",
        "    sum = f[0]\n",
        "    for i in range(1, n - 1):\n",
        "        sum += 2 * f[i]\n",
        "    return h * sum/2"
      ],
      "metadata": {
        "id": "fd5bvSXeB5Lt"
      },
      "execution_count": null,
      "outputs": []
    },
    {
      "cell_type": "markdown",
      "source": [
        "#### Simpson"
      ],
      "metadata": {
        "id": "HTYY13Ego_8P"
      }
    },
    {
      "cell_type": "code",
      "source": [
        "def simp38(h, f0, f1, f2, f3):\n",
        "    return 3 * h * (f0 + 3 * (f1 + f2) + f3)/8"
      ],
      "metadata": {
        "id": "tCTHhYdIFLs2"
      },
      "execution_count": null,
      "outputs": []
    },
    {
      "cell_type": "code",
      "source": [
        "def simp38m(h, n, f):\n",
        "    m = 0\n",
        "    sum = 0\n",
        "    if n % 2 != 0:\n",
        "        sum = simp38(h, f[n], f[n-1], f[n-2], f[n-3])\n",
        "        m = n - 3\n",
        "    if m > 1:\n",
        "        sum += simp13m(h, m, f)\n",
        "    return sum"
      ],
      "metadata": {
        "id": "SlrTP1Ewq7AK"
      },
      "execution_count": null,
      "outputs": []
    },
    {
      "cell_type": "code",
      "source": [
        "def simp13m(h, n, f):\n",
        "    sum = f[0]\n",
        "    for i in range(1, n - 1, 2):\n",
        "        sum += 4 * f[i] + 2 * f[i+1]\n",
        "    sum += 4 * f[n-1] + f[n]\n",
        "    return h * sum/3"
      ],
      "metadata": {
        "id": "VCmp9wbWDBsW"
      },
      "execution_count": null,
      "outputs": []
    },
    {
      "cell_type": "code",
      "source": [
        "def simpint(a, b, n, f):\n",
        "    h = (b - a)/2\n",
        "    sum = 0\n",
        "    if n == 1:\n",
        "        return trap(h, f[n-1], f[n])\n",
        "    else:\n",
        "        m = n\n",
        "        odd = n/2 - int(n/2)\n",
        "        if odd > 0 and n > 1:\n",
        "            sum += simp38(h, f[n-3], f[n-2], f[n-1], f[n])\n",
        "            m = n-3\n",
        "        if m > 1:\n",
        "            sum += simp13m(h, m, f)\n",
        "    return sum"
      ],
      "metadata": {
        "id": "cn8IcGdZEEPi"
      },
      "execution_count": null,
      "outputs": []
    },
    {
      "cell_type": "markdown",
      "source": [
        "#### Euler"
      ],
      "metadata": {
        "id": "QUqXG7iQpEKi"
      }
    },
    {
      "cell_type": "code",
      "source": [
        "def euler(a, b, y0, m, f):\n",
        "    h = (b-a)/m\n",
        "    x,y = a, y0\n",
        "    vetx, vety = [x], [y]\n",
        "    fxy = f(x,y)\n",
        "    for i in range(0, m-1):\n",
        "        x = a + i * h\n",
        "        y = y + h * fxy\n",
        "        fxy = f(x,y)\n",
        "        vetx.append(x)\n",
        "        vety.append(y)\n",
        "    return vetx, vety"
      ],
      "metadata": {
        "id": "aCB2aUTmHpD9"
      },
      "execution_count": null,
      "outputs": []
    },
    {
      "cell_type": "markdown",
      "source": [
        "#### Runge-Kutta"
      ],
      "metadata": {
        "id": "r_xaTuaepGO8"
      }
    },
    {
      "cell_type": "code",
      "source": [
        "def runge_kutta_4(a, b, y0, m, f):\n",
        "    h = (b-a)/m\n",
        "    x,y = a, y0\n",
        "    vetx, vety = [x], [y]\n",
        "    for i in range(m):\n",
        "        k1 = h * f(x, y)\n",
        "        k2 = h * f(x + h/2, y + k1/2)\n",
        "        k3 = h * f(x + h/2, y + k2/2)\n",
        "        k4 = h * f(x + h, y + k3)\n",
        "        y += (k1 + 2*k2 + 2*k3 + k4)/6\n",
        "        x += h\n",
        "        vetx.append(x)\n",
        "        vety.append(y)\n",
        "    return vetx, vety"
      ],
      "metadata": {
        "id": "W9vClJidLyIa"
      },
      "execution_count": null,
      "outputs": []
    },
    {
      "cell_type": "markdown",
      "source": [
        "### Relatorio"
      ],
      "metadata": {
        "id": "GkkYjlvgEU4L"
      }
    },
    {
      "cell_type": "markdown",
      "source": [
        "#### 1"
      ],
      "metadata": {
        "id": "3h0jorjrFZuD"
      }
    },
    {
      "cell_type": "markdown",
      "source": [
        "##### a"
      ],
      "metadata": {
        "id": "CbsdeMWtFbIU"
      }
    },
    {
      "cell_type": "markdown",
      "source": [
        "Grupo 1: subintervalos [0,2.5] e [2.5,5]"
      ],
      "metadata": {
        "id": "K6_rhX7bclW5"
      }
    },
    {
      "cell_type": "code",
      "source": [
        "h, n, f = 2.5, 1, [0.5, 0.9]\n",
        "print(simp13m(h, n, f))"
      ],
      "metadata": {
        "id": "MCD3zJdQFc-m",
        "outputId": "0246f36e-5050-473a-c798-d8c5f64b3884",
        "colab": {
          "base_uri": "https://localhost:8080/"
        }
      },
      "execution_count": null,
      "outputs": [
        {
          "output_type": "stream",
          "name": "stdout",
          "text": [
            "2.8333333333333335\n"
          ]
        }
      ]
    },
    {
      "cell_type": "code",
      "source": [
        "h, n, f = 2.5, 1, [0.9, 1.4]\n",
        "print(simp13m(h, n, f))"
      ],
      "metadata": {
        "id": "c26JCm6br352",
        "outputId": "804a7326-83ce-4b43-f6a2-656fc9c01d16",
        "colab": {
          "base_uri": "https://localhost:8080/"
        }
      },
      "execution_count": null,
      "outputs": [
        {
          "output_type": "stream",
          "name": "stdout",
          "text": [
            "4.916666666666667\n"
          ]
        }
      ]
    },
    {
      "cell_type": "markdown",
      "source": [
        "##### b"
      ],
      "metadata": {
        "id": "hUDJI9QzmqvK"
      }
    },
    {
      "cell_type": "markdown",
      "source": [
        "Grupo 2: subintervalos [5, 15]"
      ],
      "metadata": {
        "id": "5gVCMXLIn1N7"
      }
    },
    {
      "cell_type": "code",
      "source": [
        "h, n, f = 2.5, 1, [1.5, 0.9]\n",
        "print(trapm(h, n, f))"
      ],
      "metadata": {
        "colab": {
          "base_uri": "https://localhost:8080/"
        },
        "id": "hNw4oYoxpcoA",
        "outputId": "6190fb93-a7a1-4a6b-d1e9-728d996d3e3a"
      },
      "execution_count": null,
      "outputs": [
        {
          "output_type": "stream",
          "name": "stdout",
          "text": [
            "1.875\n"
          ]
        }
      ]
    },
    {
      "cell_type": "markdown",
      "source": [
        "##### c"
      ],
      "metadata": {
        "id": "8lK8-OvGmsPR"
      }
    },
    {
      "cell_type": "markdown",
      "source": [
        "Grupo 3: subintervalos [15, 20], [20, 25] e [25, 30]"
      ],
      "metadata": {
        "id": "oh5MndLsn6RZ"
      }
    },
    {
      "cell_type": "code",
      "source": [
        "h, n, f = 5, 2, [0.9, 1.3]\n",
        "#print(simp38m(h, n, f))"
      ],
      "metadata": {
        "colab": {
          "base_uri": "https://localhost:8080/"
        },
        "id": "QsqqUjUvpxO1",
        "outputId": "975379d9-e0a7-4332-de3e-7da7c5100051"
      },
      "execution_count": null,
      "outputs": [
        {
          "output_type": "stream",
          "name": "stdout",
          "text": [
            "0\n"
          ]
        }
      ]
    },
    {
      "cell_type": "markdown",
      "source": [
        "#### 2"
      ],
      "metadata": {
        "id": "KwZodPfgMZsL"
      }
    },
    {
      "cell_type": "markdown",
      "source": [
        "##### Não consegui achar a solução exata para a letra B, tentei pesquisar na internet como achar a exata e o melhor que achei foi as formulas que botei no código"
      ],
      "metadata": {
        "id": "naOBxDB9oDJN"
      }
    },
    {
      "cell_type": "markdown",
      "source": [
        "##### a"
      ],
      "metadata": {
        "id": "JdvqCBDzMcMv"
      }
    },
    {
      "cell_type": "code",
      "source": [
        "def f(x, y):\n",
        "    return x**2 + y**2"
      ],
      "metadata": {
        "id": "Fpd14y_HMdjV"
      },
      "execution_count": null,
      "outputs": []
    },
    {
      "cell_type": "code",
      "source": [
        "a, b, y0, m = 0, 0.5, 0, 5\n",
        "vetx, vety = euler(a, b, y0, m, f)\n",
        "print(\"Método de Euler\")\n",
        "print(f\"y(0.5) = {vety[-1]}\")"
      ],
      "metadata": {
        "colab": {
          "base_uri": "https://localhost:8080/"
        },
        "id": "nxsc_AmZUBdu",
        "outputId": "dfae4fe0-67a9-4338-8ef6-5d0ecb545a28"
      },
      "execution_count": null,
      "outputs": [
        {
          "output_type": "stream",
          "name": "stdout",
          "text": [
            "Método de Euler\n",
            "y(0.5) = 0.005000100000000001\n"
          ]
        }
      ]
    },
    {
      "cell_type": "code",
      "source": [
        "a, b, y0, m = 0, 0.5, 0, 5\n",
        "vetx, vety = runge_kutta_4(a, b, y0, m, f)\n",
        "print(\"Método de Runge-Kutta de 4ª ordem\")\n",
        "print(f\"y(0.5) = {vety[-1]}\")"
      ],
      "metadata": {
        "colab": {
          "base_uri": "https://localhost:8080/"
        },
        "id": "2X2q_x8pSqUg",
        "outputId": "9ea03dd1-e1a4-4176-bb68-8fd00bca8354"
      },
      "execution_count": null,
      "outputs": [
        {
          "output_type": "stream",
          "name": "stdout",
          "text": [
            "Método de Runge-Kutta de 4ª ordem\n",
            "y(0.5) = 0.041791288475232065\n"
          ]
        }
      ]
    },
    {
      "cell_type": "markdown",
      "source": [
        "##### b"
      ],
      "metadata": {
        "id": "KGoaNjr3TUQl"
      }
    },
    {
      "cell_type": "code",
      "source": [
        "y_exact = math.tan(0.5)\n",
        "print(\"Solução exata para y(0.5):\", y_exact)"
      ],
      "metadata": {
        "colab": {
          "base_uri": "https://localhost:8080/"
        },
        "id": "ZkCis787TWMz",
        "outputId": "fd9814f6-4299-4003-d76b-7e7c756e3c69"
      },
      "execution_count": null,
      "outputs": [
        {
          "output_type": "stream",
          "name": "stdout",
          "text": [
            "Solução exata para y(0.5): 0.5463024898437905\n"
          ]
        }
      ]
    },
    {
      "cell_type": "markdown",
      "source": [
        "#### 3"
      ],
      "metadata": {
        "id": "fxC6XNXjQVj6"
      }
    },
    {
      "cell_type": "markdown",
      "source": [
        "##### Não consegui achar a solução exata para a letra B, tentei pesquisar na internet como achar a exata e o melhor que achei foi as formulas que botei no código"
      ],
      "metadata": {
        "id": "w-N48ExYoboY"
      }
    },
    {
      "cell_type": "markdown",
      "source": [
        "##### a"
      ],
      "metadata": {
        "id": "mVzRkVhmQYfo"
      }
    },
    {
      "cell_type": "code",
      "source": [
        "def f(x,y):\n",
        "    return x + y"
      ],
      "metadata": {
        "id": "TSZxXo05QcrD"
      },
      "execution_count": null,
      "outputs": []
    },
    {
      "cell_type": "code",
      "source": [
        "a, b, y0, h = 0, 0.2, 1, 5\n",
        "\n",
        "x, y = runge_kutta_4(a, b, y0, h, f)\n",
        "print(f\"Para h=0.2: {y[-1]}\")"
      ],
      "metadata": {
        "colab": {
          "base_uri": "https://localhost:8080/"
        },
        "id": "USMlCqDAQdVH",
        "outputId": "146cdd19-55cc-44dc-9933-92fea07cd54b"
      },
      "execution_count": null,
      "outputs": [
        {
          "output_type": "stream",
          "name": "stdout",
          "text": [
            "Para h=0.2: 1.2428055062392371\n"
          ]
        }
      ]
    },
    {
      "cell_type": "code",
      "source": [
        "a, b, y0, h = 0, 0.1, 1, 5\n",
        "\n",
        "x, y = runge_kutta_4(a, b, y0, h, f)\n",
        "print(f\"Para h=0.2 = {y[-1]}\")"
      ],
      "metadata": {
        "colab": {
          "base_uri": "https://localhost:8080/"
        },
        "id": "sAiT4ijxQp-K",
        "outputId": "46192554-ce3c-4002-d419-b43b6b8fbc6d"
      },
      "execution_count": null,
      "outputs": [
        {
          "output_type": "stream",
          "name": "stdout",
          "text": [
            "Para h=0.2 = 1.1103418358614527\n"
          ]
        }
      ]
    },
    {
      "cell_type": "markdown",
      "source": [
        "##### b"
      ],
      "metadata": {
        "id": "YRmRYWWgSWNC"
      }
    },
    {
      "cell_type": "code",
      "source": [
        "exato = math.exp(0.2) - 0.2 - 1\n",
        "print(\"Solução exata para y(0.2):\", exato)"
      ],
      "metadata": {
        "colab": {
          "base_uri": "https://localhost:8080/"
        },
        "id": "WKypc2JAQxnY",
        "outputId": "03245a68-3009-43c4-d3b7-9c901b7909e5"
      },
      "execution_count": null,
      "outputs": [
        {
          "output_type": "stream",
          "name": "stdout",
          "text": [
            "Solução exata para y(0.2): 0.0214027581601699\n"
          ]
        }
      ]
    }
  ]
}
