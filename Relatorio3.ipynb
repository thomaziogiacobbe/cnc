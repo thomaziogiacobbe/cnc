{
  "nbformat": 4,
  "nbformat_minor": 0,
  "metadata": {
    "colab": {
      "provenance": [],
      "collapsed_sections": [
        "IHPepUpANldK",
        "2-yCJKOKNwPE",
        "49fM_2BZOE3Y",
        "55kXOI_5S56j",
        "XhJWyVhfWj7g"
      ],
      "authorship_tag": "ABX9TyMd3h0mSjGeqPHJ32cEKVU5",
      "include_colab_link": true
    },
    "kernelspec": {
      "name": "python3",
      "display_name": "Python 3"
    },
    "language_info": {
      "name": "python"
    }
  },
  "cells": [
    {
      "cell_type": "markdown",
      "metadata": {
        "id": "view-in-github",
        "colab_type": "text"
      },
      "source": [
        "<a href=\"https://colab.research.google.com/github/thomaziogiacobbe/cnc/blob/main/Relatorio3.ipynb\" target=\"_parent\"><img src=\"https://colab.research.google.com/assets/colab-badge.svg\" alt=\"Open In Colab\"/></a>"
      ]
    },
    {
      "cell_type": "markdown",
      "source": [
        "#Relatório 3 - Interpolação"
      ],
      "metadata": {
        "id": "a36sRJLPNY9Y"
      }
    },
    {
      "cell_type": "code",
      "source": [
        "import matplotlib.pyplot as plt\n",
        "import numpy as np\n",
        "import math"
      ],
      "metadata": {
        "id": "wI2UiEMxYD84"
      },
      "execution_count": null,
      "outputs": []
    },
    {
      "cell_type": "markdown",
      "source": [
        "###Lagrange"
      ],
      "metadata": {
        "id": "hLhFXXFpNiV1"
      }
    },
    {
      "cell_type": "code",
      "execution_count": null,
      "metadata": {
        "id": "f_rTGyHz0tuq"
      },
      "outputs": [],
      "source": [
        "def lagrange(x, y, z):\n",
        "    pz = 0\n",
        "    m = len(x)\n",
        "\n",
        "    for i in range(m):\n",
        "        c, d = 1, 1\n",
        "        for j in range(m):\n",
        "            if i != j:\n",
        "                c *= (z - x[j])\n",
        "                d *= (x[i] - x[j])\n",
        "        pz += y[i] * c/d\n",
        "    return pz"
      ]
    },
    {
      "cell_type": "markdown",
      "source": [
        "###Newton"
      ],
      "metadata": {
        "id": "IHPepUpANldK"
      }
    },
    {
      "cell_type": "code",
      "source": [
        "def newton(x, y, z):\n",
        "    m = len(x)\n",
        "    dely = y.copy()\n",
        "\n",
        "    for i in range(1, m - 1):\n",
        "        for k in range(m - 1, i, -1):\n",
        "            dely[k] = (dely[k] - dely[k - 1])/(x[k] - x[k - i])\n",
        "\n",
        "    pz = dely[0]\n",
        "    for i in range(1, m - 1):\n",
        "        termo = dely[i]\n",
        "        for j in range(0, i - 1):\n",
        "            termo = termo * (x[j] - x[j - 1])\n",
        "        pz = pz * termo\n",
        "\n",
        "    return pz"
      ],
      "metadata": {
        "id": "PNNtHC612pz6"
      },
      "execution_count": null,
      "outputs": []
    },
    {
      "cell_type": "markdown",
      "source": [
        "###MMQ"
      ],
      "metadata": {
        "id": "omBSndI1NsBy"
      }
    },
    {
      "cell_type": "code",
      "source": [
        "def mmq(x, y):\n",
        "    n = len(x)\n",
        "    sum_x = sum(x)\n",
        "    sum_y = sum(y)\n",
        "    sum_xy = sum(xi * yi for xi, yi in zip(x, y))\n",
        "    sum_x2 = sum(xi**2 for xi in x)\n",
        "\n",
        "    xm = sum_x/n\n",
        "    ym = sum_y/n\n",
        "    a1 = (n*sum_xy - sum_x*sum_y) / (n*sum_x2 - sum_x*sum_x)\n",
        "    a0 = ym - a1*xm\n",
        "\n",
        "    st,sr = 0,0\n",
        "    for i in range(n):\n",
        "        st += (y[i] - ym)**2\n",
        "        sr += (y[i] - a1*x[i] - a0)**2\n",
        "\n",
        "    syx = (sr/(n-2))**0.5\n",
        "    r2 = (st - sr)/st\n",
        "    return syx, r2, a1, a0"
      ],
      "metadata": {
        "id": "5Bz3bHnU-qG5"
      },
      "execution_count": null,
      "outputs": []
    },
    {
      "cell_type": "code",
      "source": [
        "def mmq_qua(x, y):\n",
        "    n = len(x)\n",
        "    sum_x = sum(x)\n",
        "    sum_y = sum(y)\n",
        "    sum_x2 = sum(xi**2 for xi in x)\n",
        "    sum_x2n = (sum_x * sum_x)  /n\n",
        "    sxx = sum_x2 - sum_x2n\n",
        "\n",
        "    sum_xy = sum(xi * yi for xi, yi in zip(x, y))\n",
        "    sum_xyn = (sum_x * sum_y) /n\n",
        "    sxy = sum_xy - sum_xyn\n",
        "\n",
        "    sum_x3 = sum(xi**3 for xi in x)\n",
        "    sum_xx2n = (sum_x * sum_x2) / n\n",
        "    sxx2 = sum_x3 - sum_xx2n\n",
        "\n",
        "    sum_x2y = sum((xi ** 2) * yi for xi, yi in zip(x, y))\n",
        "    sum_x2yn = (sum_x2 * sum_y) / n\n",
        "    sx2y = sum_x2y - sum_x2yn\n",
        "\n",
        "    sum_x4 = sum(xi**4 for xi in x)\n",
        "    sum_x22n = (sum_x2 ** 2) / n\n",
        "    sx2x2 = sum_x4 - sum_x22n\n",
        "\n",
        "    A = ((sx2y * sxx) - (sxy * sxx2)) / ((sxx * sx2x2) - ((sxx2)**2))\n",
        "    B = ((sxy * sx2x2) - (sx2y * sxx2)) / ((sxx * sx2x2) - ((sxx2)**2))\n",
        "    C = (sum_y / n) - (B * (sum_x / n)) - (A * (sum_x2 / n))\n",
        "\n",
        "    return A, B, C"
      ],
      "metadata": {
        "id": "D4KIrBspra1_"
      },
      "execution_count": null,
      "outputs": []
    },
    {
      "cell_type": "code",
      "source": [
        "def bqua(x, a, b, c):\n",
        "  return a * (x ** 2) +  (b * x) + c"
      ],
      "metadata": {
        "id": "2Qo-b_4lrisR"
      },
      "execution_count": null,
      "outputs": []
    },
    {
      "cell_type": "code",
      "source": [
        "def mmq_exp(x, y):\n",
        "    sum_x = sum(x)\n",
        "    sum_x2 = sum(xi**2 for xi in x)\n",
        "    A = [[len(x), sum_x], [sum_x, sum_x2]]\n",
        "    y_ = [math.log(yi) for yi in y]\n",
        "    sum_xy = sum(xi * yi for xi, yi in zip(x, y_))\n",
        "    B = [sum(y_), sum_xy]\n",
        "    a0, a1 = np.linalg.solve(A,B)\n",
        "    a, b = math.exp(a0), a1\n",
        "    return a, b"
      ],
      "metadata": {
        "id": "F3H3fOqbrcx0"
      },
      "execution_count": null,
      "outputs": []
    },
    {
      "cell_type": "code",
      "source": [
        "def bexp(x, a, b):\n",
        "  return a * math.exp(b * x)"
      ],
      "metadata": {
        "id": "nlC6R19VrkmH"
      },
      "execution_count": null,
      "outputs": []
    },
    {
      "cell_type": "markdown",
      "source": [
        "###Spline"
      ],
      "metadata": {
        "id": "2-yCJKOKNwPE"
      }
    },
    {
      "cell_type": "code",
      "source": [
        "def spline(x, y, n):\n",
        "  h = [0] * (n+1)\n",
        "  a = [0] * (n+1)\n",
        "\n",
        "  for i in range(n):\n",
        "    h[i] = (x[i+1] - x[i])\n",
        "\n",
        "  for i in range(1, n):\n",
        "    a[i] = ((3/h[i]) * (y[i+1] - y[i]) - (3/h[i-1]) * (y[i] - y[i-1]))\n",
        "\n",
        "  l = [0] * (n+1)\n",
        "  l[0] = 1\n",
        "  u = [0] * (n+1)\n",
        "  z = [0] * (n+1)\n",
        "\n",
        "  for i in range(1, n):\n",
        "    l[i] = ((2*(x[i+1]-x[i-1])) - (h[i-1] * u[i-1]))\n",
        "    u[i] = h[i]/l[i]\n",
        "    z[i] = ((a[i] - (h[i-1] * z[i-1]))/l[i])\n",
        "\n",
        "  l[n] = 1\n",
        "  z[n] = 0\n",
        "  b  = [0] * (n+1)\n",
        "  d =  [0] * (n+1)\n",
        "  c =  [0] * (n+1)\n",
        "  c[n] = 0\n",
        "  for i in range(n-1, -1, -1):\n",
        "    c[i] = (z[i] - (u[i]*c[i+1]))\n",
        "    b[i] = ((((y[i+1]-y[i])/h[i]) - ((h[i]*(c[i+1]+2*c[i]))/3)))\n",
        "    d[i] = (((c[i+1]-c[i])/(3*h[i])))\n",
        "\n",
        "  s = []\n",
        "\n",
        "  for i in range(n):\n",
        "    print(f'S{i+1} = {round(d[i], 6)}*(x - {x[i]})³ + {round(c[i], 6)}*(x - {x[i]})² + {round(b[i], 6)}*(x - {x[i]}) + {y[i]}')\n",
        "    s.append(lambda w, j=i: d[j]*((w-x[j])**3) + c[j]*((w-x[j])**2) + b[j]*(w-x[j]) + y[j])\n",
        "\n",
        "  return s"
      ],
      "metadata": {
        "id": "N8WkvyPvLlft"
      },
      "execution_count": null,
      "outputs": []
    },
    {
      "cell_type": "markdown",
      "source": [
        "##Relatorio"
      ],
      "metadata": {
        "id": "VHl06174N8fA"
      }
    },
    {
      "cell_type": "markdown",
      "source": [
        "###1"
      ],
      "metadata": {
        "id": "49fM_2BZOE3Y"
      }
    },
    {
      "cell_type": "code",
      "source": [
        "x = [0.75, 1.25]\n",
        "y = [-0.6, 0.79]\n",
        "z = 1.15\n",
        "\n",
        "print(lagrange(x, y, z))"
      ],
      "metadata": {
        "colab": {
          "base_uri": "https://localhost:8080/"
        },
        "id": "gBhC2_o4OKNa",
        "outputId": "a0c5f052-b5b7-455f-e5bc-81bdee9a036f"
      },
      "execution_count": null,
      "outputs": [
        {
          "output_type": "stream",
          "name": "stdout",
          "text": [
            "0.5119999999999998\n"
          ]
        }
      ]
    },
    {
      "cell_type": "markdown",
      "source": [
        "###2"
      ],
      "metadata": {
        "id": "PPTBo85CO2gX"
      }
    },
    {
      "cell_type": "markdown",
      "source": [
        "####a"
      ],
      "metadata": {
        "id": "hC_1L8TYS3AC"
      }
    },
    {
      "cell_type": "code",
      "source": [
        "x = [24, 32]\n",
        "y = [8.418, 7.305]\n",
        "z = 7.986\n",
        "\n",
        "print(lagrange(x, y, z))"
      ],
      "metadata": {
        "colab": {
          "base_uri": "https://localhost:8080/"
        },
        "id": "cuMGufHfRcau",
        "outputId": "28e790bc-5b03-4a0d-d447-5366a4a66035"
      },
      "execution_count": null,
      "outputs": [
        {
          "output_type": "stream",
          "name": "stdout",
          "text": [
            "10.64594775\n"
          ]
        }
      ]
    },
    {
      "cell_type": "code",
      "source": [
        "x = [0, 8, 16, 24, 32, 40]\n",
        "y = [14.621, 11.843, 9.870, 8.418, 7.305, 6.413]\n",
        "z = 7.986\n",
        "\n",
        "print(lagrange(x, y, z))"
      ],
      "metadata": {
        "colab": {
          "base_uri": "https://localhost:8080/"
        },
        "id": "m9Kp_gd5Sdg1",
        "outputId": "f8556fb4-2d8d-4064-c33c-15b04178acd6"
      },
      "execution_count": null,
      "outputs": [
        {
          "output_type": "stream",
          "name": "stdout",
          "text": [
            "11.8470573067661\n"
          ]
        }
      ]
    },
    {
      "cell_type": "code",
      "source": [
        "x = [0, 8, 16, 24, 32, 40]\n",
        "y = [14.621, 11.843, 9.870, 8.418, 7.305, 6.413]\n",
        "s = spline(x, y, 4)\n",
        "print(f'Spline: {round((s[3](27)),3)} mg/L')"
      ],
      "metadata": {
        "colab": {
          "base_uri": "https://localhost:8080/"
        },
        "id": "8H8s-psTO3hh",
        "outputId": "64eb2a1e-d0d9-4a14-d4f8-b62b03e7abb4"
      },
      "execution_count": null,
      "outputs": [
        {
          "output_type": "stream",
          "name": "stdout",
          "text": [
            "S1 = 0.00036*(x - 0)³ + 0.0*(x - 0)² + -0.370308*(x - 0) + 14.621\n",
            "S2 = -0.000229*(x - 8)³ + 0.008647*(x - 8)² + -0.301134*(x - 8) + 11.843\n",
            "S3 = 2e-06*(x - 16)³ + 0.003147*(x - 16)² + -0.206781*(x - 16) + 9.87\n",
            "S4 = -0.000133*(x - 24)³ + 0.003186*(x - 24)² + -0.156116*(x - 24) + 8.418\n",
            "Spline: 7.975 mg/L\n"
          ]
        }
      ]
    },
    {
      "cell_type": "markdown",
      "source": [
        "####b"
      ],
      "metadata": {
        "id": "55kXOI_5S56j"
      }
    },
    {
      "cell_type": "markdown",
      "source": [
        "##### É possível ver utilizando o algorítmo de Lagrange ambos os resultados não chegaram nem perto do resultado real, já com Spline é possivel chegar em um resultado muito próximo do resultado exato"
      ],
      "metadata": {
        "id": "XhJWyVhfWj7g"
      }
    },
    {
      "cell_type": "markdown",
      "source": [
        "###3"
      ],
      "metadata": {
        "id": "ZRsWveIoXe5J"
      }
    },
    {
      "cell_type": "markdown",
      "source": [
        "####a"
      ],
      "metadata": {
        "id": "FMwNt1HkdD3V"
      }
    },
    {
      "cell_type": "code",
      "source": [
        "v = [30, 45, 60, 75, 90, 120]\n",
        "p = [5.6, 8.5, 11.1, 14.5, 16.7, 22.4]\n",
        "f = [5.0, 12.3, 21, 32.0, 47.6, 84.7]\n",
        "\n",
        "plt.scatter(v, p)\n",
        "plt.scatter(v, f)\n",
        "plt.xlabel(\"velocidade\")\n",
        "plt.show()"
      ],
      "metadata": {
        "colab": {
          "base_uri": "https://localhost:8080/",
          "height": 54
        },
        "id": "YS2ZtFXoYCxf",
        "outputId": "56710940-e067-4030-e135-b55346ff301e"
      },
      "execution_count": null,
      "outputs": [
        {
          "output_type": "display_data",
          "data": {
            "text/plain": [
              "<Figure size 640x480 with 1 Axes>"
            ],
            "image/png": "[encoded data removed]"
          },
          "metadata": {}
        }
      ]
    },
    {
      "cell_type": "code",
      "source": [
        "vf = [sum(x) for x in zip(p, f)]\n",
        "_, _, a1, a0 = mmq(v, vf)\n",
        "\n",
        "\n",
        "plt.scatter(v, vf)\n",
        "plt.plot(v, a1*np.array(v, dtype='float64') + a0)\n",
        "plt.xlabel(\"velocidade\")\n",
        "plt.ylabel(\"frear total\")\n",
        "plt.show()"
      ],
      "metadata": {
        "colab": {
          "base_uri": "https://localhost:8080/",
          "height": 54
        },
        "id": "GJGLpgtKmnH7",
        "outputId": "2c9e9bd7-dbc5-410d-eb00-2273ab312ec7"
      },
      "execution_count": null,
      "outputs": [
        {
          "output_type": "display_data",
          "data": {
            "text/plain": [
              "<Figure size 640x480 with 1 Axes>"
            ],
            "image/png": "[encoded data removed]"
          },
          "metadata": {}
        }
      ]
    },
    {
      "cell_type": "markdown",
      "source": [
        "Utilizando MMQ"
      ],
      "metadata": {
        "id": "wRRfWHV7ic9F"
      }
    },
    {
      "cell_type": "code",
      "source": [
        "syx, r2, a1p, a0p = mmq(v, p)\n",
        "print(f'pensar(x) = ({a1p})*Velocidade + {a0p}')\n",
        "syx, r2, a1f, a0f = mmq(v, f)\n",
        "print(f'frear(x) = ({a1f})*Velocidade + {a0f}')"
      ],
      "metadata": {
        "colab": {
          "base_uri": "https://localhost:8080/"
        },
        "id": "n7ISdWe9gsTJ",
        "outputId": "0f5eae41-471b-4d82-d495-be7f862d9e26"
      },
      "execution_count": null,
      "outputs": [
        {
          "output_type": "stream",
          "name": "stdout",
          "text": [
            "pensar(x) = (0.18647619047619024)*Velocidade + 0.08000000000001783\n",
            "frear(x) = (0.8818095238095234)*Velocidade + -27.959999999999965\n"
          ]
        }
      ]
    },
    {
      "cell_type": "markdown",
      "source": [
        "Utilizando o Google Sheets para obter a fórmula:\n",
        "\n",
        "Pensar (m) = 0,1792 * Velocidade - 1,776\n",
        "\n",
        "Frear (m) = 0,7513 * Velocidade - 1,537"
      ],
      "metadata": {
        "id": "YU_Ny6i_bQt7"
      }
    },
    {
      "cell_type": "markdown",
      "source": [
        "####b"
      ],
      "metadata": {
        "id": "59lOvG4xdGzM"
      }
    },
    {
      "cell_type": "code",
      "source": [
        "pm = 0.1792 * 110 - 1.776\n",
        "fm = 0.7513 * 110 - 1.537\n",
        "\n",
        "mmq_p = a1p * 110 + a0p\n",
        "mmq_f = a1f * 110 + a0f\n",
        "\n",
        "print(f'Utilizando a função obtida do Google Sheets: {pm + fm}')\n",
        "print(f'Utilizando MMQ: {mmq_p + mmq_f}')"
      ],
      "metadata": {
        "colab": {
          "base_uri": "https://localhost:8080/"
        },
        "id": "qHUa4QxTcmUO",
        "outputId": "8368f9a0-f884-47d7-ac44-fc4fa19e57fd"
      },
      "execution_count": null,
      "outputs": [
        {
          "output_type": "stream",
          "name": "stdout",
          "text": [
            "Utilizando a função obtida do Google Sheets: 99.042\n",
            "Utilizando MMQ: 89.63142857142856\n"
          ]
        }
      ]
    },
    {
      "cell_type": "code",
      "source": [
        "plt.scatter(v, vf)\n",
        "plt.xlabel(\"velocidade\")\n",
        "plt.plot(110, 99.042, marker=\"o\", markersize=8, markerfacecolor=\"red\")\n",
        "plt.plot(110, 89.63142857142856, marker=\"o\", markersize=8, markerfacecolor=\"green\")\n",
        "plt.grid()\n",
        "plt.show()"
      ],
      "metadata": {
        "colab": {
          "base_uri": "https://localhost:8080/",
          "height": 54
        },
        "id": "-n4j5jM0jeOh",
        "outputId": "d5372e91-c824-41c4-d93b-2effb27275d3"
      },
      "execution_count": null,
      "outputs": [
        {
          "output_type": "display_data",
          "data": {
            "text/plain": [
              "<Figure size 640x480 with 1 Axes>"
            ],
            "image/png": "[encoded data removed]"
          },
          "metadata": {}
        }
      ]
    },
    {
      "cell_type": "markdown",
      "source": [
        "###4"
      ],
      "metadata": {
        "id": "egPw-ohefMVT"
      }
    },
    {
      "cell_type": "markdown",
      "source": [
        "####a"
      ],
      "metadata": {
        "id": "tzQ6SocMpSlY"
      }
    },
    {
      "cell_type": "code",
      "source": [
        "d = [0, 4, 8, 12, 16, 20]\n",
        "q = [67.38, 74.67, 82.74, 91.69, 101.60, 112.58]\n",
        "\n",
        "syx, r2, a1, a0 = mmq(d,q)\n",
        "print(f'f(x) = ({a1})x + ({a0})')\n",
        "\n",
        "plt.scatter(d, q)\n",
        "plt.plot(d, a1*np.array(d, dtype='float64') + a0)\n",
        "plt.show()"
      ],
      "metadata": {
        "colab": {
          "base_uri": "https://localhost:8080/",
          "height": 72
        },
        "id": "FSqBquL_l8IC",
        "outputId": "ea03b8ec-d9ae-4646-e4d6-64f99cb2a48d"
      },
      "execution_count": null,
      "outputs": [
        {
          "output_type": "stream",
          "name": "stdout",
          "text": [
            "f(x) = (2.2552857142857086)x + (65.89047619047625)\n"
          ]
        },
        {
          "output_type": "display_data",
          "data": {
            "text/plain": [
              "<Figure size 640x480 with 1 Axes>"
            ],
            "image/png": "[encoded data removed]"
          },
          "metadata": {}
        }
      ]
    },
    {
      "cell_type": "markdown",
      "source": [
        "####b"
      ],
      "metadata": {
        "id": "fTDbhzTjqsih"
      }
    },
    {
      "cell_type": "markdown",
      "source": [
        "#####Linear"
      ],
      "metadata": {
        "id": "dN__pWDgrAN4"
      }
    },
    {
      "cell_type": "code",
      "source": [
        "d = [0, 4, 8, 12, 16, 20]\n",
        "q = [67.38, 74.67, 82.74, 91.69, 101.60, 112.58]\n",
        "\n",
        "diferencas = []\n",
        "t = np.linspace(min(d), max(d), len(d))\n",
        "\n",
        "syx, r2, a1, a0 = mmq(d,q)\n",
        "print(f'f(x) = ({a1})x + ({a0})')\n",
        "\n",
        "k = 0\n",
        "dif = 0\n",
        "for i in t:\n",
        "    ps = a1*i + a0\n",
        "    dif += abs(q[k] - ps)\n",
        "    k += 1\n",
        "diferencas.append(dif)\n",
        "\n",
        "plt.scatter(d, q)\n",
        "plt.plot(d, a1*np.array(d, dtype='float64') + a0)\n",
        "plt.show()"
      ],
      "metadata": {
        "colab": {
          "base_uri": "https://localhost:8080/",
          "height": 72
        },
        "id": "rmO_wtNyqteD",
        "outputId": "b863aa5d-b60c-4b31-baf2-22b845b71c92"
      },
      "execution_count": null,
      "outputs": [
        {
          "output_type": "stream",
          "name": "stdout",
          "text": [
            "f(x) = (2.2552857142857086)x + (65.89047619047625)\n"
          ]
        },
        {
          "output_type": "display_data",
          "data": {
            "text/plain": [
              "<Figure size 640x480 with 1 Axes>"
            ],
            "image/png": "[encoded data removed]"
          },
          "metadata": {}
        }
      ]
    },
    {
      "cell_type": "markdown",
      "source": [
        "#####Quadrática"
      ],
      "metadata": {
        "id": "Si_crj3krCp-"
      }
    },
    {
      "cell_type": "code",
      "source": [
        "a0, a1, a2 = mmq_qua(d, q)\n",
        "print(f'f(x) = ({a0})x² + ({a1})*x + {a2}')\n",
        "\n",
        "k = 0\n",
        "dif = 0\n",
        "for i in t:\n",
        "    ps = bqua(i, a0, a1, a2)\n",
        "    dif += abs(q[k] - ps)\n",
        "    k += 1\n",
        "diferencas.append(dif)\n",
        "\n",
        "plt.scatter(d, q)\n",
        "plt.plot(t, [bqua(i, a0, a1, a2) for i in t])\n",
        "plt.xlim([0, 22])\n",
        "plt.ylim([60, 120])\n",
        "plt.show()"
      ],
      "metadata": {
        "colab": {
          "base_uri": "https://localhost:8080/",
          "height": 72
        },
        "id": "KuwXckQrrEP3",
        "outputId": "b95c577f-82dc-4e0e-f7f9-8101ab017d42"
      },
      "execution_count": null,
      "outputs": [
        {
          "output_type": "stream",
          "name": "stdout",
          "text": [
            "f(x) = (0.028805803571430897)x² + (1.6791696428570888)*x + 67.42678571428593\n"
          ]
        },
        {
          "output_type": "display_data",
          "data": {
            "text/plain": [
              "<Figure size 640x480 with 1 Axes>"
            ],
            "image/png": "[encoded data removed]"
          },
          "metadata": {}
        }
      ]
    },
    {
      "cell_type": "markdown",
      "source": [
        "#####Exponencial"
      ],
      "metadata": {
        "id": "oeeYvq41r4a1"
      }
    },
    {
      "cell_type": "code",
      "source": [
        "a0, a1 = mmq_exp(d, q)\n",
        "print(f'f(x) = ({a0}) * e^(({a1})*x)')\n",
        "\n",
        "k = 0\n",
        "dif = 0\n",
        "for i in t:\n",
        "    ps = bexp(i, a0, a1)\n",
        "    dif += abs(q[k] - ps)\n",
        "    k += 1\n",
        "diferencas.append(dif)\n",
        "\n",
        "plt.plot(t, [bexp(i, a0, a1) for i in t])\n",
        "plt.scatter(d, q)\n",
        "plt.xlim([0, 25])\n",
        "plt.ylim([60, 120])\n",
        "plt.show()"
      ],
      "metadata": {
        "colab": {
          "base_uri": "https://localhost:8080/",
          "height": 72
        },
        "id": "PaiMaVM4r6M_",
        "outputId": "7db1a063-8def-491a-aa76-72dc1a7d6955"
      },
      "execution_count": null,
      "outputs": [
        {
          "output_type": "stream",
          "name": "stdout",
          "text": [
            "f(x) = (67.38252665169892) * e^((0.025665605440044433)*x)\n"
          ]
        },
        {
          "output_type": "display_data",
          "data": {
            "text/plain": [
              "<Figure size 640x480 with 1 Axes>"
            ],
            "image/png": "[encoded data removed]"
          },
          "metadata": {}
        }
      ]
    },
    {
      "cell_type": "markdown",
      "source": [
        "#####Diferenças"
      ],
      "metadata": {
        "id": "4hgQbUoLuDHo"
      }
    },
    {
      "cell_type": "code",
      "source": [
        "print(f'Vetor das diferenças gerado: {diferencas}')"
      ],
      "metadata": {
        "colab": {
          "base_uri": "https://localhost:8080/"
        },
        "id": "cH37pA7qtqzC",
        "outputId": "3d6926ac-f880-4d5b-f122-80101b1ebf72"
      },
      "execution_count": null,
      "outputs": [
        {
          "output_type": "stream",
          "name": "stdout",
          "text": [
            "Vetor das diferenças gerado: [6.146666666666675, 0.29885714285718734, 0.013721429436117205]\n"
          ]
        }
      ]
    },
    {
      "cell_type": "markdown",
      "source": [
        "Por meio dos gráficos podemos perceber que tanto a regressão quadrática quanto a exponencial tiveram bons resultados quanto a aproximação, porém ao olhar o vetor das diferenças que foi gerado podemos ver que a equação que melhor se ajusta aos dados é a exponencial"
      ],
      "metadata": {
        "id": "zPeiJ_fEt4A3"
      }
    },
    {
      "cell_type": "markdown",
      "source": [
        "####c"
      ],
      "metadata": {
        "id": "ku60WvO5ueSp"
      }
    },
    {
      "cell_type": "code",
      "source": [
        "syx, r2, a1, a0 = mmq(d,q)\n",
        "print(syx)\n",
        "print(r2)"
      ],
      "metadata": {
        "colab": {
          "base_uri": "https://localhost:8080/"
        },
        "id": "loE6wjNTufgR",
        "outputId": "692126b5-0295-4fc5-f180-bd8c917634f7"
      },
      "execution_count": null,
      "outputs": [
        {
          "output_type": "stream",
          "name": "stdout",
          "text": [
            "1.4094600452115056\n",
            "0.9944513427448027\n"
          ]
        }
      ]
    },
    {
      "cell_type": "markdown",
      "source": [
        "####d"
      ],
      "metadata": {
        "id": "K-O4WVt-u7Zg"
      }
    },
    {
      "cell_type": "markdown",
      "source": [
        "Como visto na letra **b** desse exercício, a melhor equação é a exponencial"
      ],
      "metadata": {
        "id": "Pbkg5zEcu8cM"
      }
    },
    {
      "cell_type": "code",
      "source": [
        "a0, a1 = mmq_exp(d, q)\n",
        "result = round(a0 * math.exp(a1 * 30), 2)\n",
        "print(result)"
      ],
      "metadata": {
        "colab": {
          "base_uri": "https://localhost:8080/"
        },
        "id": "iXrF3Mjiu_yz",
        "outputId": "dbaf2007-bfcd-4f0d-eb95-9b565c385e12"
      },
      "execution_count": null,
      "outputs": [
        {
          "output_type": "stream",
          "name": "stdout",
          "text": [
            "145.53\n"
          ]
        }
      ]
    },
    {
      "cell_type": "markdown",
      "source": [
        "###5"
      ],
      "metadata": {
        "id": "5thuYYjgvnuC"
      }
    },
    {
      "cell_type": "code",
      "source": [
        "x = [1, 2, 3, 4, 5]\n",
        "y = [0.5, 2, 2.9, 3.5, 4]\n",
        "\n",
        "t = np.linspace(min(x), max(x), len(x))"
      ],
      "metadata": {
        "id": "2ESJywfQwNUI"
      },
      "execution_count": null,
      "outputs": []
    },
    {
      "cell_type": "code",
      "source": [
        "a0, a1, a2 = mmq_qua(x, y)\n",
        "print(f'f(x) = ({a0})x² + ({a1})*x + {a2}')\n",
        "\n",
        "plt.plot(t, [bqua(i, a0, a1, a2) for i in t])\n",
        "plt.scatter(x, y)\n",
        "\n",
        "plt.show()"
      ],
      "metadata": {
        "colab": {
          "base_uri": "https://localhost:8080/",
          "height": 72
        },
        "id": "Bt-nGAPCxsPW",
        "outputId": "bdbf3a11-7f84-4bbd-f18e-e7bf85d81092"
      },
      "execution_count": null,
      "outputs": [
        {
          "output_type": "stream",
          "name": "stdout",
          "text": [
            "f(x) = (-0.1642857142857151)x² + (1.8357142857142923)*x + -1.1200000000000105\n"
          ]
        },
        {
          "output_type": "display_data",
          "data": {
            "text/plain": [
              "<Figure size 640x480 with 1 Axes>"
            ],
            "image/png": "[encoded data removed]"
          },
          "metadata": {}
        }
      ]
    },
    {
      "cell_type": "code",
      "source": [
        "previsao = 2.6\n",
        "fx = (a0 * (previsao)**2) + (a1 * previsao) + a2\n",
        "print(round(fx,2))"
      ],
      "metadata": {
        "colab": {
          "base_uri": "https://localhost:8080/"
        },
        "id": "RJiOjPRQzuEe",
        "outputId": "18318faa-77f3-4000-87b9-061b2dec13f9"
      },
      "execution_count": null,
      "outputs": [
        {
          "output_type": "stream",
          "name": "stdout",
          "text": [
            "2.54\n"
          ]
        }
      ]
    }
  ]
}